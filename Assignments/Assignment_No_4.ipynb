{
 "cells": [
  {
   "cell_type": "markdown",
   "metadata": {},
   "source": [
    "Exercise 3-1  Task: Store the names of a few of your friends in a list called names. Print each person’s\n",
    "name by accessing each element in the list, one at a time."
   ]
  },
  {
   "cell_type": "code",
   "execution_count": 31,
   "metadata": {},
   "outputs": [],
   "source": [
    "Names : list = [\"Uzair\",\"Ali\",\"Rafay\",\"Ahmed\",\"Aqib\"]"
   ]
  },
  {
   "cell_type": "code",
   "execution_count": 32,
   "metadata": {},
   "outputs": [
    {
     "name": "stdout",
     "output_type": "stream",
     "text": [
      "Uzair\n",
      "Ali\n",
      "Rafay\n",
      "Ahmed\n",
      "Aqib\n"
     ]
    }
   ],
   "source": [
    "print(Names[0])\n",
    "print(Names[1])\n",
    "print(Names[2])\n",
    "print(Names[3])\n",
    "print(Names[4])\n",
    "\n",
    "# Names[0:5]"
   ]
  },
  {
   "cell_type": "markdown",
   "metadata": {},
   "source": [
    "Exercise 3-2 Task: Start with the list you used in Exercise 3-1. Instead of just printing each person’s\n",
    "name, print a message to them. The text of each message should be the same, but each\n",
    "message should be personalized with the person’s name."
   ]
  },
  {
   "cell_type": "code",
   "execution_count": 33,
   "metadata": {},
   "outputs": [
    {
     "name": "stdout",
     "output_type": "stream",
     "text": [
      " Hello Uzair\n",
      " Hello Ali\n",
      " Hello Rafay\n",
      " Hello Ahmed\n",
      " Hello Aqib\n"
     ]
    }
   ],
   "source": [
    "message : str = \"Hello\"\n",
    "print(f\" {message} {Names[0]}\")\n",
    "print(f\" {message} {Names[1]}\")\n",
    "print(f\" {message} {Names[2]}\")\n",
    "print(f\" {message} {Names[3]}\")\n",
    "print(f\" {message} {Names[4]}\")\n",
    "\n"
   ]
  },
  {
   "cell_type": "markdown",
   "metadata": {},
   "source": [
    "Exercise 3-3 Task: Think of your favorite mode of transportation, such as a motorcycle or a car, and\n",
    "make a list that stores several examples. Use your list to print a series of statements\n",
    "about these items, such as “I would like to own a Honda motorcycle.”"
   ]
  },
  {
   "cell_type": "code",
   "execution_count": 34,
   "metadata": {},
   "outputs": [],
   "source": [
    "my_list : list = [ \"Heavy_bike\" , \"Bugatti\" , \"Private_jet\", \"Supra\" ]\n"
   ]
  },
  {
   "cell_type": "code",
   "execution_count": 35,
   "metadata": {},
   "outputs": [
    {
     "name": "stdout",
     "output_type": "stream",
     "text": [
      " i would like to own a  Private_jet \n",
      "but i also really like Heavy_bike \n",
      "i really like the sound of my favorite car Supra \n",
      "but my dream car is Bugatti \n"
     ]
    }
   ],
   "source": [
    "# statement_No_1 : str = \"i would like to own a\" \n",
    "# statement_No_2 : str = \"but i also really like \" \n",
    "# statement_No_3 : str = \"i really like the sound of my favorite car\" \n",
    "# statement_No_4 : str = \"but my dream car is \" \n",
    "\n",
    "# print (f\" {statement_No_1} {my_list[0]}\")\n",
    "# print (f\" {statement_No_2} {my_list[1]}\")\n",
    "# print (f\" {statement_No_3} {my_list[2]}\")\n",
    "# print (f\" {statement_No_4} {my_list[3]}\")\n",
    "\n",
    "\n",
    "print (f\" i would like to own a  {my_list[2]} \\nbut i also really like {my_list[0]} \\ni really like the sound of my favorite car {my_list[3]} \\nbut my dream car is {my_list[1]} \")"
   ]
  },
  {
   "cell_type": "markdown",
   "metadata": {},
   "source": [
    "Exercise 3-4 If you could invite anyone, living or deceased, to dinner, who would you invite?\n",
    "Make a list that includes at least three people you’d like to invite to dinner. Then use your\n",
    "list to print a message to each person, inviting them to dinner."
   ]
  },
  {
   "cell_type": "code",
   "execution_count": 36,
   "metadata": {},
   "outputs": [],
   "source": [
    "Guest_list : list = [\"Uzair\" , \"Ali\" , \"Rafay\"]"
   ]
  },
  {
   "cell_type": "code",
   "execution_count": 37,
   "metadata": {},
   "outputs": [
    {
     "name": "stdout",
     "output_type": "stream",
     "text": [
      " i am very glad to invite you  Uzair \n",
      " i am very glad to invite you  Ali \n",
      "  i am very glad to invite you Rafay \n"
     ]
    }
   ],
   "source": [
    "message_no_2 : str = \" i am very glad to invite you \"\n",
    "# print(f\" {message_no_2} {Guest_list[0]}\")\n",
    "# print(f\" {message_no_2} {Guest_list[1]}\")\n",
    "# print(f\" {message_no_2} {Guest_list[2]}\")\n",
    "  \n",
    "print(f\"{message_no_2} {Guest_list[0]} \\n{message_no_2} {Guest_list[1]} \\n {message_no_2}{Guest_list[2]} \")"
   ]
  },
  {
   "cell_type": "markdown",
   "metadata": {},
   "source": [
    "Exercise 3-5 Start with your program from Exercise 3-4. Add a print() call at the end of your\n",
    "program, stating the name of the guest who can’t make it. Modify your list, replacing the\n",
    "name of the guest who can’t make it with the name of the new person you are inviting.\n",
    "Print a second set of invitation messages, one for each person who is still in your list."
   ]
  },
  {
   "cell_type": "code",
   "execution_count": 38,
   "metadata": {},
   "outputs": [],
   "source": [
    "Guest_list : list = [\"Uzair\" , \"Ali\" , \"Rafay\", \"Ahmed\" ,\"Aqib\", \"mudasir\"]\n",
    "not_available : list =  [\"Aqib\", \"mudasir\" ]\n",
    "new_guest : list = [\"mazhar\", \"abdullah\"]"
   ]
  },
  {
   "cell_type": "code",
   "execution_count": 39,
   "metadata": {},
   "outputs": [],
   "source": [
    "Guest_list.remove(\"Aqib\")\n"
   ]
  },
  {
   "cell_type": "code",
   "execution_count": 40,
   "metadata": {},
   "outputs": [
    {
     "data": {
      "text/plain": [
       "['Uzair', 'Ali', 'Rafay', 'Ahmed', 'mudasir']"
      ]
     },
     "execution_count": 40,
     "metadata": {},
     "output_type": "execute_result"
    }
   ],
   "source": [
    "Guest_list"
   ]
  },
  {
   "cell_type": "code",
   "execution_count": 41,
   "metadata": {},
   "outputs": [],
   "source": [
    "Guest_list.remove (\"mudasir\")"
   ]
  },
  {
   "cell_type": "code",
   "execution_count": 42,
   "metadata": {},
   "outputs": [
    {
     "data": {
      "text/plain": [
       "['Uzair', 'Ali', 'Rafay', 'Ahmed']"
      ]
     },
     "execution_count": 42,
     "metadata": {},
     "output_type": "execute_result"
    }
   ],
   "source": [
    "Guest_list"
   ]
  },
  {
   "cell_type": "code",
   "execution_count": 43,
   "metadata": {},
   "outputs": [],
   "source": [
    "Guest_list.extend(new_guest)"
   ]
  },
  {
   "cell_type": "code",
   "execution_count": 44,
   "metadata": {},
   "outputs": [
    {
     "data": {
      "text/plain": [
       "['Uzair', 'Ali', 'Rafay', 'Ahmed', 'mazhar', 'abdullah']"
      ]
     },
     "execution_count": 44,
     "metadata": {},
     "output_type": "execute_result"
    }
   ],
   "source": [
    "Guest_list"
   ]
  },
  {
   "cell_type": "markdown",
   "metadata": {},
   "source": [
    "Exercise 3-6 Start with your program from Exercise 3-4 or 3-5. Add a print() call to the end\n",
    "of your program, informing people that you found a bigger table. Use insert() to add\n",
    "one new guest to the beginning of your list. Use insert() to add one new guest to the\n",
    "middle of your list. Use append() to add one new guest to the end of your list. Print a\n",
    "new set of invitation messages, one for each person in your list."
   ]
  },
  {
   "cell_type": "code",
   "execution_count": 45,
   "metadata": {},
   "outputs": [],
   "source": [
    "new_guest_no_1: str = \"Shoaib\"\n",
    "new_guest_no_2: str = \"Alyan\"\n",
    "new_guest_no_3: str = \"Muneeb\"\n",
    "Guest_list.insert(0,new_guest_no_1)\n",
    "Guest_list.insert(4,new_guest_no_2)\n",
    "Guest_list.append(new_guest_no_3)"
   ]
  },
  {
   "cell_type": "code",
   "execution_count": 46,
   "metadata": {},
   "outputs": [
    {
     "name": "stdout",
     "output_type": "stream",
     "text": [
      "['Shoaib', 'Uzair', 'Ali', 'Rafay', 'Alyan', 'Ahmed', 'mazhar', 'abdullah', 'Muneeb']\n"
     ]
    }
   ],
   "source": [
    "print(Guest_list)"
   ]
  },
  {
   "cell_type": "markdown",
   "metadata": {},
   "source": [
    "Exercise 3-7 Start with your program from Exercise 3-6. Add a new line that prints a message\n",
    "saying that you can invite only two people for dinner. Use pop() to remove guests from\n",
    "your list one at a time until only two names remain in your list. Each time you pop a\n",
    "name from your list, print a message to that person letting them know you’re sorry you\n",
    "can’t invite them to dinner. Print a message to each of the two people still on your list,\n",
    "letting them know they’re still invited. Use del to remove the last two names from your\n",
    "list, so you have an empty list. Print your list to make sure you actually have an empty\n",
    "list at the end of your program."
   ]
  },
  {
   "cell_type": "code",
   "execution_count": 47,
   "metadata": {},
   "outputs": [
    {
     "name": "stdout",
     "output_type": "stream",
     "text": [
      "['Shoaib', 'Uzair', 'Ali', 'Rafay', 'Alyan', 'Ahmed', 'mazhar', 'abdullah', 'Muneeb']\n"
     ]
    }
   ],
   "source": [
    "print(Guest_list)"
   ]
  },
  {
   "cell_type": "code",
   "execution_count": 48,
   "metadata": {},
   "outputs": [
    {
     "name": "stdout",
     "output_type": "stream",
     "text": [
      " Shoaib Sorry we cant invite you\n"
     ]
    }
   ],
   "source": [
    "mesg : str = \"Sorry we cant invite you\"\n",
    "print (f\" {Guest_list.pop(0)} {mesg}\")  "
   ]
  },
  {
   "cell_type": "code",
   "execution_count": 49,
   "metadata": {},
   "outputs": [
    {
     "data": {
      "text/plain": [
       "['Uzair', 'Ali', 'Rafay', 'Alyan', 'Ahmed', 'mazhar', 'abdullah', 'Muneeb']"
      ]
     },
     "execution_count": 49,
     "metadata": {},
     "output_type": "execute_result"
    }
   ],
   "source": [
    "Guest_list"
   ]
  },
  {
   "cell_type": "code",
   "execution_count": 50,
   "metadata": {},
   "outputs": [
    {
     "name": "stdout",
     "output_type": "stream",
     "text": [
      " Uzair Sorry we cant invite you\n"
     ]
    }
   ],
   "source": [
    "print (f\" {Guest_list.pop(0)} {mesg}\")  "
   ]
  },
  {
   "cell_type": "code",
   "execution_count": 51,
   "metadata": {},
   "outputs": [
    {
     "data": {
      "text/plain": [
       "['Ali', 'Rafay', 'Alyan', 'Ahmed', 'mazhar', 'abdullah', 'Muneeb']"
      ]
     },
     "execution_count": 51,
     "metadata": {},
     "output_type": "execute_result"
    }
   ],
   "source": [
    "Guest_list"
   ]
  },
  {
   "cell_type": "code",
   "execution_count": 52,
   "metadata": {},
   "outputs": [
    {
     "name": "stdout",
     "output_type": "stream",
     "text": [
      " Ali Sorry we cant invite you\n"
     ]
    }
   ],
   "source": [
    "print (f\" {Guest_list.pop(0)} {mesg}\")  "
   ]
  },
  {
   "cell_type": "code",
   "execution_count": 53,
   "metadata": {},
   "outputs": [
    {
     "data": {
      "text/plain": [
       "['Rafay', 'Alyan', 'Ahmed', 'mazhar', 'abdullah', 'Muneeb']"
      ]
     },
     "execution_count": 53,
     "metadata": {},
     "output_type": "execute_result"
    }
   ],
   "source": [
    "Guest_list"
   ]
  },
  {
   "cell_type": "code",
   "execution_count": 54,
   "metadata": {},
   "outputs": [
    {
     "name": "stdout",
     "output_type": "stream",
     "text": [
      " Rafay Sorry we cant invite you\n"
     ]
    }
   ],
   "source": [
    "print (f\" {Guest_list.pop(0)} {mesg}\")  "
   ]
  },
  {
   "cell_type": "code",
   "execution_count": 55,
   "metadata": {},
   "outputs": [
    {
     "data": {
      "text/plain": [
       "['Alyan', 'Ahmed', 'mazhar', 'abdullah', 'Muneeb']"
      ]
     },
     "execution_count": 55,
     "metadata": {},
     "output_type": "execute_result"
    }
   ],
   "source": [
    "Guest_list"
   ]
  },
  {
   "cell_type": "code",
   "execution_count": 56,
   "metadata": {},
   "outputs": [
    {
     "name": "stdout",
     "output_type": "stream",
     "text": [
      " Alyan Sorry we cant invite you\n"
     ]
    }
   ],
   "source": [
    "print (f\" {Guest_list.pop(0)} {mesg}\")  "
   ]
  },
  {
   "cell_type": "code",
   "execution_count": 57,
   "metadata": {},
   "outputs": [
    {
     "data": {
      "text/plain": [
       "['Ahmed', 'mazhar', 'abdullah', 'Muneeb']"
      ]
     },
     "execution_count": 57,
     "metadata": {},
     "output_type": "execute_result"
    }
   ],
   "source": [
    "Guest_list"
   ]
  },
  {
   "cell_type": "code",
   "execution_count": 58,
   "metadata": {},
   "outputs": [
    {
     "name": "stdout",
     "output_type": "stream",
     "text": [
      " Ahmed Sorry we cant invite you\n"
     ]
    }
   ],
   "source": [
    "print (f\" {Guest_list.pop(0)} {mesg}\")  "
   ]
  },
  {
   "cell_type": "code",
   "execution_count": 59,
   "metadata": {},
   "outputs": [
    {
     "data": {
      "text/plain": [
       "['mazhar', 'abdullah', 'Muneeb']"
      ]
     },
     "execution_count": 59,
     "metadata": {},
     "output_type": "execute_result"
    }
   ],
   "source": [
    "Guest_list"
   ]
  },
  {
   "cell_type": "code",
   "execution_count": 60,
   "metadata": {},
   "outputs": [
    {
     "name": "stdout",
     "output_type": "stream",
     "text": [
      " mazhar Sorry we cant invite you\n"
     ]
    }
   ],
   "source": [
    "print (f\" {Guest_list.pop(0)} {mesg}\")  "
   ]
  },
  {
   "cell_type": "code",
   "execution_count": 61,
   "metadata": {},
   "outputs": [
    {
     "data": {
      "text/plain": [
       "['abdullah', 'Muneeb']"
      ]
     },
     "execution_count": 61,
     "metadata": {},
     "output_type": "execute_result"
    }
   ],
   "source": [
    "Guest_list"
   ]
  },
  {
   "cell_type": "code",
   "execution_count": 62,
   "metadata": {},
   "outputs": [
    {
     "name": "stdout",
     "output_type": "stream",
     "text": [
      " abdullah Congrats you are still invited\n",
      " Muneeb Congrats you are still invited\n"
     ]
    }
   ],
   "source": [
    "mesg_no_2 : str = \"Congrats you are still invited\"\n",
    "print (f\" {Guest_list[0]} {mesg_no_2}\")  \n",
    "print (f\" {Guest_list[1]} {mesg_no_2}\")  "
   ]
  },
  {
   "cell_type": "code",
   "execution_count": 63,
   "metadata": {},
   "outputs": [
    {
     "data": {
      "text/plain": [
       "[]"
      ]
     },
     "execution_count": 63,
     "metadata": {},
     "output_type": "execute_result"
    }
   ],
   "source": [
    "del Guest_list[:]\n",
    "Guest_list"
   ]
  },
  {
   "cell_type": "markdown",
   "metadata": {},
   "source": [
    "Exercise 3-8 Think of at least five places in the world you’d like to visit. Store the locations in a\n",
    "list. Make sure the list is not in alphabetical order. Print your list in its original order. Don’t\n",
    "worry about printing the list neatly; just print it as a raw Python list. Use sorted() to\n",
    "print your list in alphabetical order without modifying the actual list. Show that your list is\n",
    "still in its original order by printing it. Use sorted() to print your list in\n",
    "reverse-alphabetical order without changing the order of the original list. Show that your\n",
    "list is still in its original order by printing it again. Use reverse() to change the order of\n",
    "your list. Print the list to show that its order has changed. Use reverse() to change the\n",
    "order of your list again. Print the list to show it’s back to its original order. Use sort() to\n",
    "change your list so it’s stored in alphabetical order. Print the list to show that its order\n",
    "\n",
    "has been changed. Use sort() to change your list so it’s stored in reverse-alphabetical\n",
    "order. Print the list to show that its order has changed."
   ]
  },
  {
   "cell_type": "code",
   "execution_count": 64,
   "metadata": {},
   "outputs": [],
   "source": [
    "fvrt_places : list =[\"Ice_land\" , \"Egypt\" , \"Green_land\" , \"Uk\" , \"USA\"]"
   ]
  },
  {
   "cell_type": "code",
   "execution_count": 65,
   "metadata": {},
   "outputs": [
    {
     "name": "stdout",
     "output_type": "stream",
     "text": [
      "This is sorted list without changing the original one ['Egypt', 'Green_land', 'Ice_land', 'USA', 'Uk']\n"
     ]
    },
    {
     "data": {
      "text/plain": [
       "\"This is original one ['Ice_land', 'Egypt', 'Green_land', 'Uk', 'USA']\""
      ]
     },
     "execution_count": 65,
     "metadata": {},
     "output_type": "execute_result"
    }
   ],
   "source": [
    "print(f\"This is sorted list without changing the original one {sorted(fvrt_places)}\")\n",
    "f\"This is original one {fvrt_places}\""
   ]
  },
  {
   "cell_type": "code",
   "execution_count": 66,
   "metadata": {},
   "outputs": [
    {
     "name": "stdout",
     "output_type": "stream",
     "text": [
      "This is sorted-reversed list without changing the original one ['Uk', 'USA', 'Ice_land', 'Green_land', 'Egypt']\n"
     ]
    },
    {
     "data": {
      "text/plain": [
       "\"This is original one ['Ice_land', 'Egypt', 'Green_land', 'Uk', 'USA']\""
      ]
     },
     "execution_count": 66,
     "metadata": {},
     "output_type": "execute_result"
    }
   ],
   "source": [
    "print(f\"This is sorted-reversed list without changing the original one {sorted(fvrt_places , reverse=True)}\")\n",
    "f\"This is original one {fvrt_places}\""
   ]
  },
  {
   "cell_type": "code",
   "execution_count": 67,
   "metadata": {},
   "outputs": [
    {
     "name": "stdout",
     "output_type": "stream",
     "text": [
      "This is reverse list ['USA', 'Uk', 'Green_land', 'Egypt', 'Ice_land']\n"
     ]
    }
   ],
   "source": [
    "fvrt_places.reverse()\n",
    "print(f\"This is reverse list {fvrt_places}\")\n"
   ]
  },
  {
   "cell_type": "code",
   "execution_count": 68,
   "metadata": {},
   "outputs": [
    {
     "data": {
      "text/plain": [
       "\"This is orignal list ['Ice_land', 'Egypt', 'Green_land', 'Uk', 'USA']\""
      ]
     },
     "execution_count": 68,
     "metadata": {},
     "output_type": "execute_result"
    }
   ],
   "source": [
    "fvrt_places.reverse()\n",
    "f\"This is orignal list {fvrt_places}\""
   ]
  },
  {
   "cell_type": "code",
   "execution_count": 69,
   "metadata": {},
   "outputs": [
    {
     "name": "stdout",
     "output_type": "stream",
     "text": [
      "This is sorted list ['Egypt', 'Green_land', 'Ice_land', 'USA', 'Uk']\n"
     ]
    }
   ],
   "source": [
    "fvrt_places.sort()\n",
    "print(f\"This is sorted list {fvrt_places}\")"
   ]
  },
  {
   "cell_type": "code",
   "execution_count": 70,
   "metadata": {},
   "outputs": [
    {
     "name": "stdout",
     "output_type": "stream",
     "text": [
      "This is sort-reversed list ['Uk', 'USA', 'Ice_land', 'Green_land', 'Egypt']\n"
     ]
    }
   ],
   "source": [
    "fvrt_places.sort(reverse=True)\n",
    "print(f\"This is sort-reversed list {fvrt_places}\")"
   ]
  },
  {
   "cell_type": "markdown",
   "metadata": {},
   "source": [
    "3-9 Think of things you could store in a list. For example, you could make a list of\n",
    "mountains, rivers, countries, cities, languages, or anything else you’d like. Write a\n",
    "program that creates a list containing these items and then uses each function\n",
    "introduced in this chapter at least once."
   ]
  },
  {
   "cell_type": "code",
   "execution_count": 71,
   "metadata": {},
   "outputs": [
    {
     "name": "stdout",
     "output_type": "stream",
     "text": [
      "After append: ['mountains', 'rivers', 'countries', 'cities', 'languages', 'oceans']\n",
      "After extend: ['mountains', 'rivers', 'countries', 'cities', 'languages', 'oceans', 'forests', 'deserts']\n",
      "After insert: ['mountains', 'rivers', 'lakes', 'countries', 'cities', 'languages', 'oceans', 'forests', 'deserts']\n",
      "After remove: ['mountains', 'lakes', 'countries', 'cities', 'languages', 'oceans', 'forests', 'deserts']\n",
      "After pop: ['mountains', 'lakes', 'countries', 'cities', 'languages', 'oceans', 'forests']\n",
      "Popped item: deserts\n",
      "After clear: []\n"
     ]
    }
   ],
   "source": [
    "items = [\"mountains\", \"rivers\", \"countries\", \"cities\", \"languages\"]\n",
    "\n",
    "# append() \n",
    "items.append(\"oceans\")\n",
    "print(\"After append:\", items)\n",
    "\n",
    "# extend() \n",
    "items.extend([\"forests\", \"deserts\"])\n",
    "print(\"After extend:\", items)\n",
    "\n",
    "# insert() \n",
    "items.insert(2, \"lakes\")\n",
    "print(\"After insert:\", items)\n",
    "\n",
    "# remove()\n",
    "items.remove(\"rivers\")\n",
    "print(\"After remove:\", items)\n",
    "\n",
    "# pop() \n",
    "popped_item = items.pop()\n",
    "print(\"After pop:\", items)\n",
    "print(\"Popped item:\", popped_item)\n",
    "\n",
    "# clear() \n",
    "items.clear()\n",
    "print(\"After clear:\", items)\n",
    "\n",
    "\n"
   ]
  },
  {
   "cell_type": "code",
   "execution_count": 72,
   "metadata": {},
   "outputs": [
    {
     "name": "stdout",
     "output_type": "stream",
     "text": [
      "Index of 'cities': 3\n",
      "Count of 'rivers': 1\n",
      "After sort: ['cities', 'countries', 'languages', 'mountains', 'rivers']\n",
      "After reverse: ['rivers', 'mountains', 'languages', 'countries', 'cities']\n",
      "Copy of items: ['rivers', 'mountains', 'languages', 'countries', 'cities']\n"
     ]
    }
   ],
   "source": [
    "\n",
    "items = [\"mountains\", \"rivers\", \"countries\", \"cities\", \"languages\"]\n",
    "\n",
    "# index() \n",
    "index_of_cities = items.index(\"cities\")\n",
    "print(\"Index of 'cities':\", index_of_cities)\n",
    "\n",
    "# count() \n",
    "count_of_rivers = items.count(\"rivers\")\n",
    "print(\"Count of 'rivers':\", count_of_rivers)\n",
    "\n",
    "# sort() \n",
    "items.sort()\n",
    "print(\"After sort:\", items)\n",
    "\n",
    "# reverse()\n",
    "items.reverse()\n",
    "print(\"After reverse:\", items)\n",
    "\n",
    "# copy() \n",
    "items_copy = items.copy()\n",
    "print(\"Copy of items:\", items_copy)"
   ]
  },
  {
   "cell_type": "markdown",
   "metadata": {},
   "source": [
    "Exercise 3-10 Task: If you haven’t received an index error in one of your programs yet, try to make one\n",
    "happen. Change an index in one of your programs to produce an index error. Make sure\n",
    "you correct the error before closing the program."
   ]
  },
  {
   "cell_type": "code",
   "execution_count": 74,
   "metadata": {},
   "outputs": [
    {
     "ename": "IndexError",
     "evalue": "list index out of range",
     "output_type": "error",
     "traceback": [
      "\u001b[1;31m---------------------------------------------------------------------------\u001b[0m",
      "\u001b[1;31mIndexError\u001b[0m                                Traceback (most recent call last)",
      "Cell \u001b[1;32mIn[74], line 3\u001b[0m\n\u001b[0;32m      1\u001b[0m items \u001b[38;5;241m=\u001b[39m [\u001b[38;5;124m\"\u001b[39m\u001b[38;5;124mmountains\u001b[39m\u001b[38;5;124m\"\u001b[39m, \u001b[38;5;124m\"\u001b[39m\u001b[38;5;124mrivers\u001b[39m\u001b[38;5;124m\"\u001b[39m, \u001b[38;5;124m\"\u001b[39m\u001b[38;5;124mcountries\u001b[39m\u001b[38;5;124m\"\u001b[39m, \u001b[38;5;124m\"\u001b[39m\u001b[38;5;124mcities\u001b[39m\u001b[38;5;124m\"\u001b[39m, \u001b[38;5;124m\"\u001b[39m\u001b[38;5;124mlanguages\u001b[39m\u001b[38;5;124m\"\u001b[39m]\n\u001b[1;32m----> 3\u001b[0m \u001b[38;5;28mprint\u001b[39m(\u001b[43mitems\u001b[49m\u001b[43m[\u001b[49m\u001b[38;5;241;43m10\u001b[39;49m\u001b[43m]\u001b[49m)  \u001b[38;5;66;03m# This will cause an IndexError \u001b[39;00m\n",
      "\u001b[1;31mIndexError\u001b[0m: list index out of range"
     ]
    }
   ],
   "source": [
    "items = [\"mountains\", \"rivers\", \"countries\", \"cities\", \"languages\"]\n",
    "\n",
    "# print(items[10])  # This will cause an IndexError \n",
    "print(items[2])  # This will print \"countries\"\n"
   ]
  },
  {
   "cell_type": "code",
   "execution_count": null,
   "metadata": {},
   "outputs": [],
   "source": []
  }
 ],
 "metadata": {
  "kernelspec": {
   "display_name": "Python 3",
   "language": "python",
   "name": "python3"
  },
  "language_info": {
   "codemirror_mode": {
    "name": "ipython",
    "version": 3
   },
   "file_extension": ".py",
   "mimetype": "text/x-python",
   "name": "python",
   "nbconvert_exporter": "python",
   "pygments_lexer": "ipython3",
   "version": "3.12.5"
  }
 },
 "nbformat": 4,
 "nbformat_minor": 2
}

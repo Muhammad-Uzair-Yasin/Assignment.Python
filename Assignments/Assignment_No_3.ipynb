{
 "cells": [
  {
   "cell_type": "markdown",
   "metadata": {},
   "source": [
    "Exercise 3-1 : Names\n",
    " "
   ]
  },
  {
   "cell_type": "code",
   "execution_count": 54,
   "metadata": {},
   "outputs": [],
   "source": [
    "Names : list = [\"Uzair\",\"Ali\",\"Rafay\",\"Ahmed\",\"Aqib\"]"
   ]
  },
  {
   "cell_type": "code",
   "execution_count": 55,
   "metadata": {},
   "outputs": [
    {
     "name": "stdout",
     "output_type": "stream",
     "text": [
      "Uzair\n",
      "Ali\n",
      "Rafay\n",
      "Ahmed\n",
      "Aqib\n"
     ]
    }
   ],
   "source": [
    "for items in Names:\n",
    "    print(items)"
   ]
  },
  {
   "cell_type": "markdown",
   "metadata": {},
   "source": [
    "Exercise 3-2 : Greetings\n"
   ]
  },
  {
   "cell_type": "code",
   "execution_count": 56,
   "metadata": {},
   "outputs": [
    {
     "name": "stdout",
     "output_type": "stream",
     "text": [
      "Hello, How are You Uzair\n",
      "Hello, How are You Ali\n",
      "Hello, How are You Rafay\n",
      "Hello, How are You Ahmed\n",
      "Hello, How are You Aqib\n"
     ]
    }
   ],
   "source": [
    "for i in Names:\n",
    "    message : str = \"Hello, How are You\"\n",
    "    print(f\"{message} {i}\")"
   ]
  },
  {
   "cell_type": "markdown",
   "metadata": {},
   "source": [
    "Exercise 3-3 : Your own List"
   ]
  },
  {
   "cell_type": "code",
   "execution_count": 57,
   "metadata": {},
   "outputs": [
    {
     "name": "stdout",
     "output_type": "stream",
     "text": [
      " i would like to own a Private_jet \n",
      "but i also really like Heavy_bike \n",
      "i really like the sound of my favorite car Supra \n",
      "but my dream car is Bugatti \n"
     ]
    }
   ],
   "source": [
    "my_list : list = [ \"Heavy_bike\" , \"Bugatti\" , \"Private_jet\", \"Supra\" ]\n",
    "print (f\" i would like to own a {my_list[2]} \\nbut i also really like {my_list[0]} \\ni really like the sound of my favorite car {my_list[3]} \\nbut my dream car is {my_list[1]} \")"
   ]
  },
  {
   "cell_type": "markdown",
   "metadata": {},
   "source": [
    "Exercise 3-4 : Guest List"
   ]
  },
  {
   "cell_type": "code",
   "execution_count": 58,
   "metadata": {},
   "outputs": [
    {
     "name": "stdout",
     "output_type": "stream",
     "text": [
      "  i am very glad to invite you  Uzair to my party. \n",
      "  i am very glad to invite you  Ali to my party. \n",
      "  i am very glad to invite you  Rafay to my party. \n"
     ]
    }
   ],
   "source": [
    "Guest_list : list = [\"Uzair\" , \"Ali\" , \"Rafay\"]\n",
    "message : str = \" i am very glad to invite you \"\n",
    "for name in Guest_list :\n",
    "    print(f\" {message} {name} to my party. \")"
   ]
  },
  {
   "cell_type": "markdown",
   "metadata": {},
   "source": [
    "Exercise 3-5 : Changing guest list"
   ]
  },
  {
   "cell_type": "code",
   "execution_count": 59,
   "metadata": {},
   "outputs": [],
   "source": [
    "Guest_list : list = [\"Uzair\" , \"Ali\" , \"Rafay\", \"Ahmed\" ,\"Aqib\", \"mudasir\" ]\n",
    "not_available : list =  [\"Aqib\", \"mudasir\" ]\n",
    "new_guest : list = [\"mazhar\", \"abdullah\"]"
   ]
  },
  {
   "cell_type": "code",
   "execution_count": 60,
   "metadata": {},
   "outputs": [
    {
     "name": "stdout",
     "output_type": "stream",
     "text": [
      " sorry you  are not invited Aqib \n",
      " sorry you  are not invited mudasir \n",
      "You are invited Uzair\n",
      "You are invited Ali\n",
      "You are invited Rafay\n",
      "You are invited Ahmed\n",
      "You are invited mazhar\n",
      "You are invited abdullah\n"
     ]
    }
   ],
   "source": [
    "for i in Guest_list.copy():\n",
    "    for x in not_available:\n",
    "        if x == i :\n",
    "            Guest_list.remove(i)\n",
    "            print(f\" sorry you  are not invited {i} \")\n",
    "Guest_list.extend(new_guest)\n",
    "invitation_message : str = \"You are invited\"\n",
    "for names in Guest_list:\n",
    "    print(f\"{invitation_message} {names}\")\n",
    "\n"
   ]
  },
  {
   "cell_type": "markdown",
   "metadata": {},
   "source": [
    "Exercise 3-6 : More Guests"
   ]
  },
  {
   "cell_type": "code",
   "execution_count": 61,
   "metadata": {},
   "outputs": [
    {
     "name": "stdout",
     "output_type": "stream",
     "text": [
      "You are invited Shoaib\n",
      "You are invited Uzair\n",
      "You are invited Ali\n",
      "You are invited Rafay\n",
      "You are invited Alyan\n",
      "You are invited Ahmed\n",
      "You are invited mazhar\n",
      "You are invited abdullah\n",
      "You are invited Muneeb\n"
     ]
    }
   ],
   "source": [
    "new_guest_no_1: str = \"Shoaib\"\n",
    "new_guest_no_2: str = \"Alyan\"\n",
    "new_guest_no_3: str = \"Muneeb\"\n",
    "Guest_list.insert(0,new_guest_no_1)\n",
    "Guest_list.insert(4,new_guest_no_2)\n",
    "Guest_list.append(new_guest_no_3)\n",
    "for names in Guest_list:\n",
    "    print(f\"{invitation_message} {names}\")"
   ]
  },
  {
   "cell_type": "markdown",
   "metadata": {},
   "source": [
    "Exercise 3-7 : Shrinking Guest List"
   ]
  },
  {
   "cell_type": "code",
   "execution_count": 62,
   "metadata": {},
   "outputs": [
    {
     "name": "stdout",
     "output_type": "stream",
     "text": [
      "sorry we couldn't invite you Muneeb\n",
      "sorry we couldn't invite you abdullah\n",
      "sorry we couldn't invite you mazhar\n",
      "sorry we couldn't invite you Ahmed\n",
      "sorry we couldn't invite you Alyan\n",
      "sorry we couldn't invite you Rafay\n",
      "sorry we couldn't invite you Ali\n"
     ]
    }
   ],
   "source": [
    "for x in range(len(Guest_list)-2 ):\n",
    "       not_invited : str =  Guest_list.pop()\n",
    "       print(f\"sorry we couldn't invite you {not_invited}\")\n"
   ]
  },
  {
   "cell_type": "code",
   "execution_count": 63,
   "metadata": {},
   "outputs": [
    {
     "name": "stdout",
     "output_type": "stream",
     "text": [
      "You Are lucky your are still invited Shoaib\n",
      "You Are lucky your are still invited Uzair\n"
     ]
    }
   ],
   "source": [
    "for names in Guest_list:\n",
    "    print(f\"You Are lucky your are still invited {names}\")"
   ]
  },
  {
   "cell_type": "code",
   "execution_count": 64,
   "metadata": {},
   "outputs": [],
   "source": [
    "del Guest_list[:]"
   ]
  },
  {
   "cell_type": "code",
   "execution_count": 65,
   "metadata": {},
   "outputs": [
    {
     "data": {
      "text/plain": [
       "[]"
      ]
     },
     "execution_count": 65,
     "metadata": {},
     "output_type": "execute_result"
    }
   ],
   "source": [
    "Guest_list"
   ]
  },
  {
   "cell_type": "markdown",
   "metadata": {},
   "source": [
    "Exercise 3-7 : Seeing The World"
   ]
  },
  {
   "cell_type": "code",
   "execution_count": 66,
   "metadata": {},
   "outputs": [],
   "source": [
    "fvrt_places : list =[\"Ice_land\" , \"Egypt\" , \"Green_land\" , \"Uk\" , \"USA\"]"
   ]
  },
  {
   "cell_type": "code",
   "execution_count": 67,
   "metadata": {},
   "outputs": [
    {
     "name": "stdout",
     "output_type": "stream",
     "text": [
      "This is sorted list without changing the original one ['Egypt', 'Green_land', 'Ice_land', 'USA', 'Uk']\n"
     ]
    },
    {
     "data": {
      "text/plain": [
       "\"This is original one ['Ice_land', 'Egypt', 'Green_land', 'Uk', 'USA']\""
      ]
     },
     "execution_count": 67,
     "metadata": {},
     "output_type": "execute_result"
    }
   ],
   "source": [
    "print(f\"This is sorted list without changing the original one {sorted(fvrt_places)}\")\n",
    "f\"This is original one {fvrt_places}\""
   ]
  },
  {
   "cell_type": "code",
   "execution_count": 68,
   "metadata": {},
   "outputs": [
    {
     "name": "stdout",
     "output_type": "stream",
     "text": [
      "This is sorted-reversed list without changing the original one ['Uk', 'USA', 'Ice_land', 'Green_land', 'Egypt']\n"
     ]
    },
    {
     "data": {
      "text/plain": [
       "\"This is original one ['Ice_land', 'Egypt', 'Green_land', 'Uk', 'USA']\""
      ]
     },
     "execution_count": 68,
     "metadata": {},
     "output_type": "execute_result"
    }
   ],
   "source": [
    "print(f\"This is sorted-reversed list without changing the original one {sorted(fvrt_places , reverse=True)}\")\n",
    "f\"This is original one {fvrt_places}\""
   ]
  },
  {
   "cell_type": "code",
   "execution_count": 69,
   "metadata": {},
   "outputs": [
    {
     "name": "stdout",
     "output_type": "stream",
     "text": [
      "This is reverse list ['USA', 'Uk', 'Green_land', 'Egypt', 'Ice_land']\n"
     ]
    }
   ],
   "source": [
    "fvrt_places.reverse()\n",
    "print(f\"This is reverse list {fvrt_places}\")\n"
   ]
  },
  {
   "cell_type": "code",
   "execution_count": 70,
   "metadata": {},
   "outputs": [
    {
     "data": {
      "text/plain": [
       "\"This is orignal list ['Ice_land', 'Egypt', 'Green_land', 'Uk', 'USA']\""
      ]
     },
     "execution_count": 70,
     "metadata": {},
     "output_type": "execute_result"
    }
   ],
   "source": [
    "fvrt_places.reverse()\n",
    "f\"This is orignal list {fvrt_places}\""
   ]
  },
  {
   "cell_type": "code",
   "execution_count": 71,
   "metadata": {},
   "outputs": [
    {
     "name": "stdout",
     "output_type": "stream",
     "text": [
      "This is sorted list ['Egypt', 'Green_land', 'Ice_land', 'USA', 'Uk']\n"
     ]
    }
   ],
   "source": [
    "fvrt_places.sort()\n",
    "print(f\"This is sorted list {fvrt_places}\")\n",
    "\n"
   ]
  },
  {
   "cell_type": "code",
   "execution_count": 72,
   "metadata": {},
   "outputs": [
    {
     "name": "stdout",
     "output_type": "stream",
     "text": [
      "This is sort-reversed list ['Uk', 'USA', 'Ice_land', 'Green_land', 'Egypt']\n"
     ]
    }
   ],
   "source": [
    "fvrt_places.sort(reverse=True)\n",
    "print(f\"This is sort-reversed list {fvrt_places}\")\n"
   ]
  },
  {
   "cell_type": "markdown",
   "metadata": {},
   "source": [
    "Exercise 3-9 : Every Functiom  "
   ]
  },
  {
   "cell_type": "code",
   "execution_count": 73,
   "metadata": {},
   "outputs": [
    {
     "name": "stdout",
     "output_type": "stream",
     "text": [
      "After append: ['mountains', 'rivers', 'countries', 'cities', 'languages', 'oceans']\n",
      "After extend: ['mountains', 'rivers', 'countries', 'cities', 'languages', 'oceans', 'forests', 'deserts']\n",
      "After insert: ['mountains', 'rivers', 'lakes', 'countries', 'cities', 'languages', 'oceans', 'forests', 'deserts']\n",
      "After remove: ['mountains', 'lakes', 'countries', 'cities', 'languages', 'oceans', 'forests', 'deserts']\n",
      "After pop: ['mountains', 'lakes', 'countries', 'cities', 'languages', 'oceans', 'forests']\n",
      "Popped item: deserts\n",
      "After clear: []\n"
     ]
    }
   ],
   "source": [
    "items = [\"mountains\", \"rivers\", \"countries\", \"cities\", \"languages\"]\n",
    "\n",
    "# append() \n",
    "items.append(\"oceans\")\n",
    "print(\"After append:\", items)\n",
    "\n",
    "# extend() \n",
    "items.extend([\"forests\", \"deserts\"])\n",
    "print(\"After extend:\", items)\n",
    "\n",
    "# insert() \n",
    "items.insert(2, \"lakes\")\n",
    "print(\"After insert:\", items)\n",
    "\n",
    "# remove()\n",
    "items.remove(\"rivers\")\n",
    "print(\"After remove:\", items)\n",
    "\n",
    "# pop() \n",
    "popped_item = items.pop()\n",
    "print(\"After pop:\", items)\n",
    "print(\"Popped item:\", popped_item)\n",
    "\n",
    "# clear() \n",
    "items.clear()\n",
    "print(\"After clear:\", items)\n",
    "\n",
    "\n"
   ]
  },
  {
   "cell_type": "code",
   "execution_count": 74,
   "metadata": {},
   "outputs": [
    {
     "name": "stdout",
     "output_type": "stream",
     "text": [
      "Index of 'cities': 3\n",
      "Count of 'rivers': 1\n",
      "After sort: ['cities', 'countries', 'languages', 'mountains', 'rivers']\n",
      "After reverse: ['rivers', 'mountains', 'languages', 'countries', 'cities']\n",
      "Copy of items: ['rivers', 'mountains', 'languages', 'countries', 'cities']\n"
     ]
    }
   ],
   "source": [
    "\n",
    "items = [\"mountains\", \"rivers\", \"countries\", \"cities\", \"languages\"]\n",
    "\n",
    "# index() \n",
    "index_of_cities = items.index(\"cities\")\n",
    "print(\"Index of 'cities':\", index_of_cities)\n",
    "\n",
    "# count() \n",
    "count_of_rivers = items.count(\"rivers\")\n",
    "print(\"Count of 'rivers':\", count_of_rivers)\n",
    "\n",
    "# sort() \n",
    "items.sort()\n",
    "print(\"After sort:\", items)\n",
    "\n",
    "# reverse()\n",
    "items.reverse()\n",
    "print(\"After reverse:\", items)\n",
    "\n",
    "# copy() \n",
    "items_copy = items.copy()\n",
    "print(\"Copy of items:\", items_copy)"
   ]
  },
  {
   "cell_type": "markdown",
   "metadata": {},
   "source": [
    "Exercise 3 - 10 : Intentional Error"
   ]
  },
  {
   "cell_type": "code",
   "execution_count": 75,
   "metadata": {},
   "outputs": [
    {
     "name": "stdout",
     "output_type": "stream",
     "text": [
      "countries\n"
     ]
    }
   ],
   "source": [
    "items = [\"mountains\", \"rivers\", \"countries\", \"cities\", \"languages\"]\n",
    "\n",
    "# print(items[10])  # This will cause an IndexError \n",
    "print(items[2])  # This will print \"countries\"\n"
   ]
  }
 ],
 "metadata": {
  "kernelspec": {
   "display_name": "Python 3",
   "language": "python",
   "name": "python3"
  },
  "language_info": {
   "codemirror_mode": {
    "name": "ipython",
    "version": 3
   },
   "file_extension": ".py",
   "mimetype": "text/x-python",
   "name": "python",
   "nbconvert_exporter": "python",
   "pygments_lexer": "ipython3",
   "version": "3.12.5"
  }
 },
 "nbformat": 4,
 "nbformat_minor": 2
}

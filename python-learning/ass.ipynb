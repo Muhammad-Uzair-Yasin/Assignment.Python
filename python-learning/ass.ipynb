{
 "cells": [
  {
   "cell_type": "code",
   "execution_count": 1,
   "metadata": {},
   "outputs": [],
   "source": [
    "\n",
    "user_command = input(\"type enter to exit\")\n",
    "condition = True\n",
    "while condition:\n",
    "    list1 = []\n",
    "    num = int(input(\"enter a value\")) \n",
    "    list1.append(num)\n",
    "    if user_command == \"enter\" :\n",
    "        condition = False\n",
    "print(f\"here is list : {list1}\")\n",
    "    "
   ]
  },
  {
   "cell_type": "code",
   "execution_count": null,
   "metadata": {},
   "outputs": [],
   "source": []
  }
 ],
 "metadata": {
  "kernelspec": {
   "display_name": "Python 3",
   "language": "python",
   "name": "python3"
  },
  "language_info": {
   "codemirror_mode": {
    "name": "ipython",
    "version": 3
   },
   "file_extension": ".py",
   "mimetype": "text/x-python",
   "name": "python",
   "nbconvert_exporter": "python",
   "pygments_lexer": "ipython3",
   "version": "3.12.5"
  }
 },
 "nbformat": 4,
 "nbformat_minor": 2
}
